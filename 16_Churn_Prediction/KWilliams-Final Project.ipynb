{
 "cells": [
  {
   "cell_type": "markdown",
   "metadata": {},
   "source": [
    "# Main Assignment Conditions\n",
    "\n",
    "The telecom operator Interconnect would like to be able to forecast their churn of clients. If it's discovered that a user is planning to leave, they will be offered promotional codes and special plan options. Interconnect's marketing team has collected some of their clientele's personal data, including information about their plans and contracts.\n",
    "\n",
    "### Interconnect's services\n",
    "\n",
    "Interconnect mainly provides two types of services:\n",
    "\n",
    "1. Landline communication. The telephone can be connected to several lines simultaneously.\n",
    "2. Internet. The network can be set up via a telephone line (DSL, *digital subscriber line*) or through a fiber optic cable.\n",
    "\n",
    "Some other services the company provides include:\n",
    "\n",
    "- Internet security: antivirus software (*DeviceProtection*) and a malicious website blocker (*OnlineSecurity*)\n",
    "- A dedicated technical support line (*TechSupport*)\n",
    "- Cloud file storage and data backup (*OnlineBackup*)\n",
    "- TV streaming (*StreamingTV*) and a movie directory (*StreamingMovies*)\n",
    "\n",
    "The clients can choose either a monthly payment or sign a 1- or 2-year contract. They can use various payment methods and receive an electronic invoice after a transaction.\n",
    "\n",
    "### Data Description\n",
    "\n",
    "The data consists of files obtained from different sources:\n",
    "\n",
    "- `contract.csv` — contract information\n",
    "- `personal.csv` — the client's personal data\n",
    "- `internet.csv` — information about Internet services\n",
    "- `phone.csv` — information about telephone services\n",
    "\n",
    "In each file, the column `customerID` contains a unique code assigned to each client.\n",
    "\n",
    "The contract information is valid as of February 1, 2020."
   ]
  },
  {
   "cell_type": "markdown",
   "metadata": {},
   "source": [
    "import numpy as np\n",
    "import pandas as pd\n",
    "import sklearn"
   ]
  },
  {
   "cell_type": "code",
   "execution_count": 206,
   "metadata": {},
   "outputs": [],
   "source": [
    "import pandas as pd\n",
    "import numpy as np\n",
    "import re\n",
    "import sklearn\n",
    "import matplotlib.pyplot as plt\n",
    "from statsmodels.tsa.seasonal import seasonal_decompose\n",
    "from sklearn.model_selection import train_test_split\n",
    "from sklearn.metrics import roc_auc_score\n",
    "from sklearn.preprocessing import StandardScaler\n",
    "from sklearn.utils import shuffle\n",
    "from sklearn.metrics import mean_squared_error\n",
    "from sklearn.metrics import accuracy_score\n",
    "from sklearn.metrics import f1_score\n",
    "from sklearn.linear_model import LogisticRegression\n",
    "from sklearn.utils import shuffle\n",
    "from sklearn.dummy import DummyClassifier\n",
    "from sklearn.ensemble import RandomForestClassifier\n",
    "from sklearn.preprocessing import LabelEncoder\n",
    "import lightgbm as lgb\n",
    "import xgboost as XGBClassifier\n",
    "from sklearn.metrics import classification_report, confusion_matrix\n",
    "import seaborn as sns\n",
    "\n",
    "import warnings\n",
    "warnings.filterwarnings('ignore')\n",
    "\n",
    "\n"
   ]
  },
  {
   "cell_type": "code",
   "execution_count": 207,
   "metadata": {},
   "outputs": [],
   "source": [
    "#load dataframes and explore\n",
    "df_contract = pd.read_csv('final_provider/contract.csv')\n",
    "df_personal = pd.read_csv('final_provider/personal.csv')\n",
    "df_internet = pd.read_csv('final_provider/internet.csv')\n",
    "df_phone = pd.read_csv('final_provider/phone.csv')"
   ]
  },
  {
   "cell_type": "code",
   "execution_count": 208,
   "metadata": {},
   "outputs": [
    {
     "data": {
      "text/html": [
       "<div>\n",
       "<style scoped>\n",
       "    .dataframe tbody tr th:only-of-type {\n",
       "        vertical-align: middle;\n",
       "    }\n",
       "\n",
       "    .dataframe tbody tr th {\n",
       "        vertical-align: top;\n",
       "    }\n",
       "\n",
       "    .dataframe thead th {\n",
       "        text-align: right;\n",
       "    }\n",
       "</style>\n",
       "<table border=\"1\" class=\"dataframe\">\n",
       "  <thead>\n",
       "    <tr style=\"text-align: right;\">\n",
       "      <th></th>\n",
       "      <th>customerID</th>\n",
       "      <th>BeginDate</th>\n",
       "      <th>EndDate</th>\n",
       "      <th>Type</th>\n",
       "      <th>PaperlessBilling</th>\n",
       "      <th>PaymentMethod</th>\n",
       "      <th>MonthlyCharges</th>\n",
       "      <th>TotalCharges</th>\n",
       "    </tr>\n",
       "  </thead>\n",
       "  <tbody>\n",
       "    <tr>\n",
       "      <th>0</th>\n",
       "      <td>7590-VHVEG</td>\n",
       "      <td>2020-01-01</td>\n",
       "      <td>No</td>\n",
       "      <td>Month-to-month</td>\n",
       "      <td>Yes</td>\n",
       "      <td>Electronic check</td>\n",
       "      <td>29.85</td>\n",
       "      <td>29.85</td>\n",
       "    </tr>\n",
       "    <tr>\n",
       "      <th>1</th>\n",
       "      <td>5575-GNVDE</td>\n",
       "      <td>2017-04-01</td>\n",
       "      <td>No</td>\n",
       "      <td>One year</td>\n",
       "      <td>No</td>\n",
       "      <td>Mailed check</td>\n",
       "      <td>56.95</td>\n",
       "      <td>1889.5</td>\n",
       "    </tr>\n",
       "    <tr>\n",
       "      <th>2</th>\n",
       "      <td>3668-QPYBK</td>\n",
       "      <td>2019-10-01</td>\n",
       "      <td>2019-12-01 00:00:00</td>\n",
       "      <td>Month-to-month</td>\n",
       "      <td>Yes</td>\n",
       "      <td>Mailed check</td>\n",
       "      <td>53.85</td>\n",
       "      <td>108.15</td>\n",
       "    </tr>\n",
       "    <tr>\n",
       "      <th>3</th>\n",
       "      <td>7795-CFOCW</td>\n",
       "      <td>2016-05-01</td>\n",
       "      <td>No</td>\n",
       "      <td>One year</td>\n",
       "      <td>No</td>\n",
       "      <td>Bank transfer (automatic)</td>\n",
       "      <td>42.30</td>\n",
       "      <td>1840.75</td>\n",
       "    </tr>\n",
       "    <tr>\n",
       "      <th>4</th>\n",
       "      <td>9237-HQITU</td>\n",
       "      <td>2019-09-01</td>\n",
       "      <td>2019-11-01 00:00:00</td>\n",
       "      <td>Month-to-month</td>\n",
       "      <td>Yes</td>\n",
       "      <td>Electronic check</td>\n",
       "      <td>70.70</td>\n",
       "      <td>151.65</td>\n",
       "    </tr>\n",
       "  </tbody>\n",
       "</table>\n",
       "</div>"
      ],
      "text/plain": [
       "   customerID   BeginDate              EndDate            Type  \\\n",
       "0  7590-VHVEG  2020-01-01                   No  Month-to-month   \n",
       "1  5575-GNVDE  2017-04-01                   No        One year   \n",
       "2  3668-QPYBK  2019-10-01  2019-12-01 00:00:00  Month-to-month   \n",
       "3  7795-CFOCW  2016-05-01                   No        One year   \n",
       "4  9237-HQITU  2019-09-01  2019-11-01 00:00:00  Month-to-month   \n",
       "\n",
       "  PaperlessBilling              PaymentMethod  MonthlyCharges TotalCharges  \n",
       "0              Yes           Electronic check           29.85        29.85  \n",
       "1               No               Mailed check           56.95       1889.5  \n",
       "2              Yes               Mailed check           53.85       108.15  \n",
       "3               No  Bank transfer (automatic)           42.30      1840.75  \n",
       "4              Yes           Electronic check           70.70       151.65  "
      ]
     },
     "execution_count": 208,
     "metadata": {},
     "output_type": "execute_result"
    }
   ],
   "source": [
    "df_contract.head()"
   ]
  },
  {
   "cell_type": "code",
   "execution_count": 209,
   "metadata": {},
   "outputs": [
    {
     "name": "stdout",
     "output_type": "stream",
     "text": [
      "<class 'pandas.core.frame.DataFrame'>\n",
      "RangeIndex: 7043 entries, 0 to 7042\n",
      "Data columns (total 8 columns):\n",
      " #   Column            Non-Null Count  Dtype  \n",
      "---  ------            --------------  -----  \n",
      " 0   customerID        7043 non-null   object \n",
      " 1   BeginDate         7043 non-null   object \n",
      " 2   EndDate           7043 non-null   object \n",
      " 3   Type              7043 non-null   object \n",
      " 4   PaperlessBilling  7043 non-null   object \n",
      " 5   PaymentMethod     7043 non-null   object \n",
      " 6   MonthlyCharges    7043 non-null   float64\n",
      " 7   TotalCharges      7043 non-null   object \n",
      "dtypes: float64(1), object(7)\n",
      "memory usage: 440.3+ KB\n"
     ]
    }
   ],
   "source": [
    "df_contract.info()"
   ]
  },
  {
   "cell_type": "code",
   "execution_count": 210,
   "metadata": {},
   "outputs": [
    {
     "data": {
      "text/html": [
       "<div>\n",
       "<style scoped>\n",
       "    .dataframe tbody tr th:only-of-type {\n",
       "        vertical-align: middle;\n",
       "    }\n",
       "\n",
       "    .dataframe tbody tr th {\n",
       "        vertical-align: top;\n",
       "    }\n",
       "\n",
       "    .dataframe thead th {\n",
       "        text-align: right;\n",
       "    }\n",
       "</style>\n",
       "<table border=\"1\" class=\"dataframe\">\n",
       "  <thead>\n",
       "    <tr style=\"text-align: right;\">\n",
       "      <th></th>\n",
       "      <th>customerID</th>\n",
       "      <th>gender</th>\n",
       "      <th>SeniorCitizen</th>\n",
       "      <th>Partner</th>\n",
       "      <th>Dependents</th>\n",
       "    </tr>\n",
       "  </thead>\n",
       "  <tbody>\n",
       "    <tr>\n",
       "      <th>0</th>\n",
       "      <td>7590-VHVEG</td>\n",
       "      <td>Female</td>\n",
       "      <td>0</td>\n",
       "      <td>Yes</td>\n",
       "      <td>No</td>\n",
       "    </tr>\n",
       "    <tr>\n",
       "      <th>1</th>\n",
       "      <td>5575-GNVDE</td>\n",
       "      <td>Male</td>\n",
       "      <td>0</td>\n",
       "      <td>No</td>\n",
       "      <td>No</td>\n",
       "    </tr>\n",
       "    <tr>\n",
       "      <th>2</th>\n",
       "      <td>3668-QPYBK</td>\n",
       "      <td>Male</td>\n",
       "      <td>0</td>\n",
       "      <td>No</td>\n",
       "      <td>No</td>\n",
       "    </tr>\n",
       "    <tr>\n",
       "      <th>3</th>\n",
       "      <td>7795-CFOCW</td>\n",
       "      <td>Male</td>\n",
       "      <td>0</td>\n",
       "      <td>No</td>\n",
       "      <td>No</td>\n",
       "    </tr>\n",
       "    <tr>\n",
       "      <th>4</th>\n",
       "      <td>9237-HQITU</td>\n",
       "      <td>Female</td>\n",
       "      <td>0</td>\n",
       "      <td>No</td>\n",
       "      <td>No</td>\n",
       "    </tr>\n",
       "  </tbody>\n",
       "</table>\n",
       "</div>"
      ],
      "text/plain": [
       "   customerID  gender  SeniorCitizen Partner Dependents\n",
       "0  7590-VHVEG  Female              0     Yes         No\n",
       "1  5575-GNVDE    Male              0      No         No\n",
       "2  3668-QPYBK    Male              0      No         No\n",
       "3  7795-CFOCW    Male              0      No         No\n",
       "4  9237-HQITU  Female              0      No         No"
      ]
     },
     "execution_count": 210,
     "metadata": {},
     "output_type": "execute_result"
    }
   ],
   "source": [
    "df_personal.head()"
   ]
  },
  {
   "cell_type": "code",
   "execution_count": 211,
   "metadata": {},
   "outputs": [
    {
     "name": "stdout",
     "output_type": "stream",
     "text": [
      "<class 'pandas.core.frame.DataFrame'>\n",
      "RangeIndex: 7043 entries, 0 to 7042\n",
      "Data columns (total 5 columns):\n",
      " #   Column         Non-Null Count  Dtype \n",
      "---  ------         --------------  ----- \n",
      " 0   customerID     7043 non-null   object\n",
      " 1   gender         7043 non-null   object\n",
      " 2   SeniorCitizen  7043 non-null   int64 \n",
      " 3   Partner        7043 non-null   object\n",
      " 4   Dependents     7043 non-null   object\n",
      "dtypes: int64(1), object(4)\n",
      "memory usage: 275.2+ KB\n"
     ]
    }
   ],
   "source": [
    "df_personal.info()"
   ]
  },
  {
   "cell_type": "code",
   "execution_count": 212,
   "metadata": {},
   "outputs": [
    {
     "data": {
      "text/html": [
       "<div>\n",
       "<style scoped>\n",
       "    .dataframe tbody tr th:only-of-type {\n",
       "        vertical-align: middle;\n",
       "    }\n",
       "\n",
       "    .dataframe tbody tr th {\n",
       "        vertical-align: top;\n",
       "    }\n",
       "\n",
       "    .dataframe thead th {\n",
       "        text-align: right;\n",
       "    }\n",
       "</style>\n",
       "<table border=\"1\" class=\"dataframe\">\n",
       "  <thead>\n",
       "    <tr style=\"text-align: right;\">\n",
       "      <th></th>\n",
       "      <th>customerID</th>\n",
       "      <th>InternetService</th>\n",
       "      <th>OnlineSecurity</th>\n",
       "      <th>OnlineBackup</th>\n",
       "      <th>DeviceProtection</th>\n",
       "      <th>TechSupport</th>\n",
       "      <th>StreamingTV</th>\n",
       "      <th>StreamingMovies</th>\n",
       "    </tr>\n",
       "  </thead>\n",
       "  <tbody>\n",
       "    <tr>\n",
       "      <th>0</th>\n",
       "      <td>7590-VHVEG</td>\n",
       "      <td>DSL</td>\n",
       "      <td>No</td>\n",
       "      <td>Yes</td>\n",
       "      <td>No</td>\n",
       "      <td>No</td>\n",
       "      <td>No</td>\n",
       "      <td>No</td>\n",
       "    </tr>\n",
       "    <tr>\n",
       "      <th>1</th>\n",
       "      <td>5575-GNVDE</td>\n",
       "      <td>DSL</td>\n",
       "      <td>Yes</td>\n",
       "      <td>No</td>\n",
       "      <td>Yes</td>\n",
       "      <td>No</td>\n",
       "      <td>No</td>\n",
       "      <td>No</td>\n",
       "    </tr>\n",
       "    <tr>\n",
       "      <th>2</th>\n",
       "      <td>3668-QPYBK</td>\n",
       "      <td>DSL</td>\n",
       "      <td>Yes</td>\n",
       "      <td>Yes</td>\n",
       "      <td>No</td>\n",
       "      <td>No</td>\n",
       "      <td>No</td>\n",
       "      <td>No</td>\n",
       "    </tr>\n",
       "    <tr>\n",
       "      <th>3</th>\n",
       "      <td>7795-CFOCW</td>\n",
       "      <td>DSL</td>\n",
       "      <td>Yes</td>\n",
       "      <td>No</td>\n",
       "      <td>Yes</td>\n",
       "      <td>Yes</td>\n",
       "      <td>No</td>\n",
       "      <td>No</td>\n",
       "    </tr>\n",
       "    <tr>\n",
       "      <th>4</th>\n",
       "      <td>9237-HQITU</td>\n",
       "      <td>Fiber optic</td>\n",
       "      <td>No</td>\n",
       "      <td>No</td>\n",
       "      <td>No</td>\n",
       "      <td>No</td>\n",
       "      <td>No</td>\n",
       "      <td>No</td>\n",
       "    </tr>\n",
       "  </tbody>\n",
       "</table>\n",
       "</div>"
      ],
      "text/plain": [
       "   customerID InternetService OnlineSecurity OnlineBackup DeviceProtection  \\\n",
       "0  7590-VHVEG             DSL             No          Yes               No   \n",
       "1  5575-GNVDE             DSL            Yes           No              Yes   \n",
       "2  3668-QPYBK             DSL            Yes          Yes               No   \n",
       "3  7795-CFOCW             DSL            Yes           No              Yes   \n",
       "4  9237-HQITU     Fiber optic             No           No               No   \n",
       "\n",
       "  TechSupport StreamingTV StreamingMovies  \n",
       "0          No          No              No  \n",
       "1          No          No              No  \n",
       "2          No          No              No  \n",
       "3         Yes          No              No  \n",
       "4          No          No              No  "
      ]
     },
     "execution_count": 212,
     "metadata": {},
     "output_type": "execute_result"
    }
   ],
   "source": [
    "df_internet.head()"
   ]
  },
  {
   "cell_type": "code",
   "execution_count": 213,
   "metadata": {},
   "outputs": [
    {
     "name": "stdout",
     "output_type": "stream",
     "text": [
      "<class 'pandas.core.frame.DataFrame'>\n",
      "RangeIndex: 5517 entries, 0 to 5516\n",
      "Data columns (total 8 columns):\n",
      " #   Column            Non-Null Count  Dtype \n",
      "---  ------            --------------  ----- \n",
      " 0   customerID        5517 non-null   object\n",
      " 1   InternetService   5517 non-null   object\n",
      " 2   OnlineSecurity    5517 non-null   object\n",
      " 3   OnlineBackup      5517 non-null   object\n",
      " 4   DeviceProtection  5517 non-null   object\n",
      " 5   TechSupport       5517 non-null   object\n",
      " 6   StreamingTV       5517 non-null   object\n",
      " 7   StreamingMovies   5517 non-null   object\n",
      "dtypes: object(8)\n",
      "memory usage: 344.9+ KB\n"
     ]
    }
   ],
   "source": [
    "df_internet.info()"
   ]
  },
  {
   "cell_type": "code",
   "execution_count": 214,
   "metadata": {},
   "outputs": [
    {
     "data": {
      "text/html": [
       "<div>\n",
       "<style scoped>\n",
       "    .dataframe tbody tr th:only-of-type {\n",
       "        vertical-align: middle;\n",
       "    }\n",
       "\n",
       "    .dataframe tbody tr th {\n",
       "        vertical-align: top;\n",
       "    }\n",
       "\n",
       "    .dataframe thead th {\n",
       "        text-align: right;\n",
       "    }\n",
       "</style>\n",
       "<table border=\"1\" class=\"dataframe\">\n",
       "  <thead>\n",
       "    <tr style=\"text-align: right;\">\n",
       "      <th></th>\n",
       "      <th>customerID</th>\n",
       "      <th>MultipleLines</th>\n",
       "    </tr>\n",
       "  </thead>\n",
       "  <tbody>\n",
       "    <tr>\n",
       "      <th>0</th>\n",
       "      <td>5575-GNVDE</td>\n",
       "      <td>No</td>\n",
       "    </tr>\n",
       "    <tr>\n",
       "      <th>1</th>\n",
       "      <td>3668-QPYBK</td>\n",
       "      <td>No</td>\n",
       "    </tr>\n",
       "    <tr>\n",
       "      <th>2</th>\n",
       "      <td>9237-HQITU</td>\n",
       "      <td>No</td>\n",
       "    </tr>\n",
       "    <tr>\n",
       "      <th>3</th>\n",
       "      <td>9305-CDSKC</td>\n",
       "      <td>Yes</td>\n",
       "    </tr>\n",
       "    <tr>\n",
       "      <th>4</th>\n",
       "      <td>1452-KIOVK</td>\n",
       "      <td>Yes</td>\n",
       "    </tr>\n",
       "  </tbody>\n",
       "</table>\n",
       "</div>"
      ],
      "text/plain": [
       "   customerID MultipleLines\n",
       "0  5575-GNVDE            No\n",
       "1  3668-QPYBK            No\n",
       "2  9237-HQITU            No\n",
       "3  9305-CDSKC           Yes\n",
       "4  1452-KIOVK           Yes"
      ]
     },
     "execution_count": 214,
     "metadata": {},
     "output_type": "execute_result"
    }
   ],
   "source": [
    "df_phone.head()"
   ]
  },
  {
   "cell_type": "code",
   "execution_count": 215,
   "metadata": {},
   "outputs": [
    {
     "name": "stdout",
     "output_type": "stream",
     "text": [
      "<class 'pandas.core.frame.DataFrame'>\n",
      "RangeIndex: 6361 entries, 0 to 6360\n",
      "Data columns (total 2 columns):\n",
      " #   Column         Non-Null Count  Dtype \n",
      "---  ------         --------------  ----- \n",
      " 0   customerID     6361 non-null   object\n",
      " 1   MultipleLines  6361 non-null   object\n",
      "dtypes: object(2)\n",
      "memory usage: 99.5+ KB\n"
     ]
    }
   ],
   "source": [
    "df_phone.info()"
   ]
  },
  {
   "cell_type": "code",
   "execution_count": 216,
   "metadata": {},
   "outputs": [],
   "source": [
    "#fix column names\n",
    "df_contract.columns = [re.sub(r'(?<!^)(?<=[a-z])([A-Z])', r'_\\1', col).lower()  for col in df_contract.columns]\n",
    "df_personal.columns = [re.sub(r'(?<!^)(?<=[a-z])([A-Z])', r'_\\1', col).lower()  for col in df_personal.columns]\n",
    "df_internet.columns = [re.sub(r'(?<!^)(?<=[a-z])([A-Z])', r'_\\1', col).lower()  for col in df_internet.columns]\n",
    "df_phone.columns = [re.sub(r'(?<!^)(?<=[a-z])([A-Z])', r'_\\1', col).lower()  for col in df_phone.columns]"
   ]
  },
  {
   "cell_type": "markdown",
   "metadata": {},
   "source": [
    "df_contract eda"
   ]
  },
  {
   "cell_type": "code",
   "execution_count": 217,
   "metadata": {},
   "outputs": [],
   "source": [
    "#fix total_charges to float\n",
    "df_contract['total_charges'] = df_contract['total_charges'].apply(pd.to_numeric, errors='coerce')"
   ]
  },
  {
   "cell_type": "code",
   "execution_count": 218,
   "metadata": {},
   "outputs": [],
   "source": [
    "#fix_ begin_date to datetime\n",
    "df_contract['begin_date'] = df_contract['begin_date'].apply(pd.to_datetime, errors='coerce')"
   ]
  },
  {
   "cell_type": "code",
   "execution_count": 219,
   "metadata": {},
   "outputs": [],
   "source": [
    "#create churn column off og the end_date column\n",
    "df_contract['churn'] = df_contract['end_date'].apply(lambda x: 0 if x == 'No' else 1 )"
   ]
  },
  {
   "cell_type": "code",
   "execution_count": 220,
   "metadata": {},
   "outputs": [],
   "source": [
    "#make 'No' valude in end_date = 'Nan'\n",
    "df_contract['end_date'] = df_contract['end_date'].apply(lambda x: np.nan if x == 'No' else x )"
   ]
  },
  {
   "cell_type": "code",
   "execution_count": 221,
   "metadata": {},
   "outputs": [],
   "source": [
    "#fix_ begin_date to datetime\n",
    "df_contract['end_date'] = df_contract['end_date'].apply(pd.to_datetime, errors='coerce')"
   ]
  },
  {
   "cell_type": "code",
   "execution_count": 222,
   "metadata": {},
   "outputs": [
    {
     "data": {
      "text/plain": [
       "array(['Electronic check', 'Mailed check', 'Bank transfer (automatic)',\n",
       "       'Credit card (automatic)'], dtype=object)"
      ]
     },
     "execution_count": 222,
     "metadata": {},
     "output_type": "execute_result"
    }
   ],
   "source": [
    "df_contract['payment_method'].unique()"
   ]
  },
  {
   "cell_type": "code",
   "execution_count": 223,
   "metadata": {},
   "outputs": [
    {
     "data": {
      "text/plain": [
       "array(['Yes', 'No'], dtype=object)"
      ]
     },
     "execution_count": 223,
     "metadata": {},
     "output_type": "execute_result"
    }
   ],
   "source": [
    "df_contract['paperless_billing'].unique()"
   ]
  },
  {
   "cell_type": "code",
   "execution_count": 224,
   "metadata": {},
   "outputs": [
    {
     "data": {
      "text/plain": [
       "array(['Month-to-month', 'One year', 'Two year'], dtype=object)"
      ]
     },
     "execution_count": 224,
     "metadata": {},
     "output_type": "execute_result"
    }
   ],
   "source": [
    "df_contract['type'].unique()"
   ]
  },
  {
   "cell_type": "code",
   "execution_count": 225,
   "metadata": {},
   "outputs": [
    {
     "name": "stdout",
     "output_type": "stream",
     "text": [
      "<class 'pandas.core.frame.DataFrame'>\n",
      "RangeIndex: 7043 entries, 0 to 7042\n",
      "Data columns (total 9 columns):\n",
      " #   Column             Non-Null Count  Dtype         \n",
      "---  ------             --------------  -----         \n",
      " 0   customer_id        7043 non-null   object        \n",
      " 1   begin_date         7043 non-null   datetime64[ns]\n",
      " 2   end_date           1869 non-null   datetime64[ns]\n",
      " 3   type               7043 non-null   object        \n",
      " 4   paperless_billing  7043 non-null   object        \n",
      " 5   payment_method     7043 non-null   object        \n",
      " 6   monthly_charges    7043 non-null   float64       \n",
      " 7   total_charges      7032 non-null   float64       \n",
      " 8   churn              7043 non-null   int64         \n",
      "dtypes: datetime64[ns](2), float64(2), int64(1), object(4)\n",
      "memory usage: 495.3+ KB\n"
     ]
    }
   ],
   "source": [
    "df_contract.info()"
   ]
  },
  {
   "cell_type": "markdown",
   "metadata": {},
   "source": [
    "df_personal eda"
   ]
  },
  {
   "cell_type": "code",
   "execution_count": 226,
   "metadata": {},
   "outputs": [
    {
     "data": {
      "text/html": [
       "<div>\n",
       "<style scoped>\n",
       "    .dataframe tbody tr th:only-of-type {\n",
       "        vertical-align: middle;\n",
       "    }\n",
       "\n",
       "    .dataframe tbody tr th {\n",
       "        vertical-align: top;\n",
       "    }\n",
       "\n",
       "    .dataframe thead th {\n",
       "        text-align: right;\n",
       "    }\n",
       "</style>\n",
       "<table border=\"1\" class=\"dataframe\">\n",
       "  <thead>\n",
       "    <tr style=\"text-align: right;\">\n",
       "      <th></th>\n",
       "      <th>customer_id</th>\n",
       "      <th>gender</th>\n",
       "      <th>senior_citizen</th>\n",
       "      <th>partner</th>\n",
       "      <th>dependents</th>\n",
       "    </tr>\n",
       "  </thead>\n",
       "  <tbody>\n",
       "    <tr>\n",
       "      <th>0</th>\n",
       "      <td>7590-VHVEG</td>\n",
       "      <td>Female</td>\n",
       "      <td>0</td>\n",
       "      <td>Yes</td>\n",
       "      <td>No</td>\n",
       "    </tr>\n",
       "    <tr>\n",
       "      <th>1</th>\n",
       "      <td>5575-GNVDE</td>\n",
       "      <td>Male</td>\n",
       "      <td>0</td>\n",
       "      <td>No</td>\n",
       "      <td>No</td>\n",
       "    </tr>\n",
       "    <tr>\n",
       "      <th>2</th>\n",
       "      <td>3668-QPYBK</td>\n",
       "      <td>Male</td>\n",
       "      <td>0</td>\n",
       "      <td>No</td>\n",
       "      <td>No</td>\n",
       "    </tr>\n",
       "    <tr>\n",
       "      <th>3</th>\n",
       "      <td>7795-CFOCW</td>\n",
       "      <td>Male</td>\n",
       "      <td>0</td>\n",
       "      <td>No</td>\n",
       "      <td>No</td>\n",
       "    </tr>\n",
       "    <tr>\n",
       "      <th>4</th>\n",
       "      <td>9237-HQITU</td>\n",
       "      <td>Female</td>\n",
       "      <td>0</td>\n",
       "      <td>No</td>\n",
       "      <td>No</td>\n",
       "    </tr>\n",
       "  </tbody>\n",
       "</table>\n",
       "</div>"
      ],
      "text/plain": [
       "  customer_id  gender  senior_citizen partner dependents\n",
       "0  7590-VHVEG  Female               0     Yes         No\n",
       "1  5575-GNVDE    Male               0      No         No\n",
       "2  3668-QPYBK    Male               0      No         No\n",
       "3  7795-CFOCW    Male               0      No         No\n",
       "4  9237-HQITU  Female               0      No         No"
      ]
     },
     "execution_count": 226,
     "metadata": {},
     "output_type": "execute_result"
    }
   ],
   "source": [
    "df_personal.head()"
   ]
  },
  {
   "cell_type": "code",
   "execution_count": 227,
   "metadata": {},
   "outputs": [
    {
     "data": {
      "text/plain": [
       "array(['Female', 'Male'], dtype=object)"
      ]
     },
     "execution_count": 227,
     "metadata": {},
     "output_type": "execute_result"
    }
   ],
   "source": [
    "df_personal['gender'].unique()"
   ]
  },
  {
   "cell_type": "code",
   "execution_count": 228,
   "metadata": {},
   "outputs": [
    {
     "data": {
      "text/plain": [
       "array([0, 1], dtype=int64)"
      ]
     },
     "execution_count": 228,
     "metadata": {},
     "output_type": "execute_result"
    }
   ],
   "source": [
    "df_personal['senior_citizen'].unique()"
   ]
  },
  {
   "cell_type": "code",
   "execution_count": 229,
   "metadata": {},
   "outputs": [
    {
     "data": {
      "text/plain": [
       "array(['Yes', 'No'], dtype=object)"
      ]
     },
     "execution_count": 229,
     "metadata": {},
     "output_type": "execute_result"
    }
   ],
   "source": [
    "df_personal['partner'].unique()"
   ]
  },
  {
   "cell_type": "code",
   "execution_count": 230,
   "metadata": {},
   "outputs": [
    {
     "data": {
      "text/plain": [
       "array(['No', 'Yes'], dtype=object)"
      ]
     },
     "execution_count": 230,
     "metadata": {},
     "output_type": "execute_result"
    }
   ],
   "source": [
    "df_personal['dependents'].unique()"
   ]
  },
  {
   "cell_type": "markdown",
   "metadata": {},
   "source": [
    "df_internet exploration"
   ]
  },
  {
   "cell_type": "code",
   "execution_count": 231,
   "metadata": {},
   "outputs": [
    {
     "data": {
      "text/html": [
       "<div>\n",
       "<style scoped>\n",
       "    .dataframe tbody tr th:only-of-type {\n",
       "        vertical-align: middle;\n",
       "    }\n",
       "\n",
       "    .dataframe tbody tr th {\n",
       "        vertical-align: top;\n",
       "    }\n",
       "\n",
       "    .dataframe thead th {\n",
       "        text-align: right;\n",
       "    }\n",
       "</style>\n",
       "<table border=\"1\" class=\"dataframe\">\n",
       "  <thead>\n",
       "    <tr style=\"text-align: right;\">\n",
       "      <th></th>\n",
       "      <th>customer_id</th>\n",
       "      <th>internet_service</th>\n",
       "      <th>online_security</th>\n",
       "      <th>online_backup</th>\n",
       "      <th>device_protection</th>\n",
       "      <th>tech_support</th>\n",
       "      <th>streaming_tv</th>\n",
       "      <th>streaming_movies</th>\n",
       "    </tr>\n",
       "  </thead>\n",
       "  <tbody>\n",
       "    <tr>\n",
       "      <th>0</th>\n",
       "      <td>7590-VHVEG</td>\n",
       "      <td>DSL</td>\n",
       "      <td>No</td>\n",
       "      <td>Yes</td>\n",
       "      <td>No</td>\n",
       "      <td>No</td>\n",
       "      <td>No</td>\n",
       "      <td>No</td>\n",
       "    </tr>\n",
       "    <tr>\n",
       "      <th>1</th>\n",
       "      <td>5575-GNVDE</td>\n",
       "      <td>DSL</td>\n",
       "      <td>Yes</td>\n",
       "      <td>No</td>\n",
       "      <td>Yes</td>\n",
       "      <td>No</td>\n",
       "      <td>No</td>\n",
       "      <td>No</td>\n",
       "    </tr>\n",
       "    <tr>\n",
       "      <th>2</th>\n",
       "      <td>3668-QPYBK</td>\n",
       "      <td>DSL</td>\n",
       "      <td>Yes</td>\n",
       "      <td>Yes</td>\n",
       "      <td>No</td>\n",
       "      <td>No</td>\n",
       "      <td>No</td>\n",
       "      <td>No</td>\n",
       "    </tr>\n",
       "    <tr>\n",
       "      <th>3</th>\n",
       "      <td>7795-CFOCW</td>\n",
       "      <td>DSL</td>\n",
       "      <td>Yes</td>\n",
       "      <td>No</td>\n",
       "      <td>Yes</td>\n",
       "      <td>Yes</td>\n",
       "      <td>No</td>\n",
       "      <td>No</td>\n",
       "    </tr>\n",
       "    <tr>\n",
       "      <th>4</th>\n",
       "      <td>9237-HQITU</td>\n",
       "      <td>Fiber optic</td>\n",
       "      <td>No</td>\n",
       "      <td>No</td>\n",
       "      <td>No</td>\n",
       "      <td>No</td>\n",
       "      <td>No</td>\n",
       "      <td>No</td>\n",
       "    </tr>\n",
       "  </tbody>\n",
       "</table>\n",
       "</div>"
      ],
      "text/plain": [
       "  customer_id internet_service online_security online_backup  \\\n",
       "0  7590-VHVEG              DSL              No           Yes   \n",
       "1  5575-GNVDE              DSL             Yes            No   \n",
       "2  3668-QPYBK              DSL             Yes           Yes   \n",
       "3  7795-CFOCW              DSL             Yes            No   \n",
       "4  9237-HQITU      Fiber optic              No            No   \n",
       "\n",
       "  device_protection tech_support streaming_tv streaming_movies  \n",
       "0                No           No           No               No  \n",
       "1               Yes           No           No               No  \n",
       "2                No           No           No               No  \n",
       "3               Yes          Yes           No               No  \n",
       "4                No           No           No               No  "
      ]
     },
     "execution_count": 231,
     "metadata": {},
     "output_type": "execute_result"
    }
   ],
   "source": [
    "df_internet.head()"
   ]
  },
  {
   "cell_type": "code",
   "execution_count": 232,
   "metadata": {},
   "outputs": [
    {
     "data": {
      "text/plain": [
       "array(['DSL', 'Fiber optic'], dtype=object)"
      ]
     },
     "execution_count": 232,
     "metadata": {},
     "output_type": "execute_result"
    }
   ],
   "source": [
    "df_internet['internet_service'].unique()"
   ]
  },
  {
   "cell_type": "code",
   "execution_count": 233,
   "metadata": {},
   "outputs": [
    {
     "data": {
      "text/plain": [
       "array(['No', 'Yes'], dtype=object)"
      ]
     },
     "execution_count": 233,
     "metadata": {},
     "output_type": "execute_result"
    }
   ],
   "source": [
    "df_internet['online_security'].unique()"
   ]
  },
  {
   "cell_type": "code",
   "execution_count": 234,
   "metadata": {},
   "outputs": [
    {
     "data": {
      "text/plain": [
       "array(['Yes', 'No'], dtype=object)"
      ]
     },
     "execution_count": 234,
     "metadata": {},
     "output_type": "execute_result"
    }
   ],
   "source": [
    "df_internet['online_backup'].unique()"
   ]
  },
  {
   "cell_type": "markdown",
   "metadata": {},
   "source": [
    "df_phone eda"
   ]
  },
  {
   "cell_type": "code",
   "execution_count": 235,
   "metadata": {},
   "outputs": [
    {
     "data": {
      "text/html": [
       "<div>\n",
       "<style scoped>\n",
       "    .dataframe tbody tr th:only-of-type {\n",
       "        vertical-align: middle;\n",
       "    }\n",
       "\n",
       "    .dataframe tbody tr th {\n",
       "        vertical-align: top;\n",
       "    }\n",
       "\n",
       "    .dataframe thead th {\n",
       "        text-align: right;\n",
       "    }\n",
       "</style>\n",
       "<table border=\"1\" class=\"dataframe\">\n",
       "  <thead>\n",
       "    <tr style=\"text-align: right;\">\n",
       "      <th></th>\n",
       "      <th>customer_id</th>\n",
       "      <th>multiple_lines</th>\n",
       "    </tr>\n",
       "  </thead>\n",
       "  <tbody>\n",
       "    <tr>\n",
       "      <th>0</th>\n",
       "      <td>5575-GNVDE</td>\n",
       "      <td>No</td>\n",
       "    </tr>\n",
       "    <tr>\n",
       "      <th>1</th>\n",
       "      <td>3668-QPYBK</td>\n",
       "      <td>No</td>\n",
       "    </tr>\n",
       "    <tr>\n",
       "      <th>2</th>\n",
       "      <td>9237-HQITU</td>\n",
       "      <td>No</td>\n",
       "    </tr>\n",
       "    <tr>\n",
       "      <th>3</th>\n",
       "      <td>9305-CDSKC</td>\n",
       "      <td>Yes</td>\n",
       "    </tr>\n",
       "    <tr>\n",
       "      <th>4</th>\n",
       "      <td>1452-KIOVK</td>\n",
       "      <td>Yes</td>\n",
       "    </tr>\n",
       "  </tbody>\n",
       "</table>\n",
       "</div>"
      ],
      "text/plain": [
       "  customer_id multiple_lines\n",
       "0  5575-GNVDE             No\n",
       "1  3668-QPYBK             No\n",
       "2  9237-HQITU             No\n",
       "3  9305-CDSKC            Yes\n",
       "4  1452-KIOVK            Yes"
      ]
     },
     "execution_count": 235,
     "metadata": {},
     "output_type": "execute_result"
    }
   ],
   "source": [
    "df_phone.head()"
   ]
  },
  {
   "cell_type": "code",
   "execution_count": 236,
   "metadata": {},
   "outputs": [
    {
     "data": {
      "text/plain": [
       "array(['No', 'Yes'], dtype=object)"
      ]
     },
     "execution_count": 236,
     "metadata": {},
     "output_type": "execute_result"
    }
   ],
   "source": [
    "df_phone['multiple_lines'].unique()"
   ]
  },
  {
   "cell_type": "code",
   "execution_count": 237,
   "metadata": {},
   "outputs": [],
   "source": [
    "#fill in missing data with no for multiple lines\n",
    "df_phone['multiple_lines'] = df_phone['multiple_lines'].fillna('No')"
   ]
  },
  {
   "cell_type": "markdown",
   "metadata": {},
   "source": [
    "Join DFs Together - we will join all our dataframes into one"
   ]
  },
  {
   "cell_type": "code",
   "execution_count": 238,
   "metadata": {},
   "outputs": [],
   "source": [
    "#merge df_contract and df_personal to new dataframe df_main with inner join\n",
    "df_main = pd.merge(df_contract, df_personal, on='customer_id', how= 'inner' )"
   ]
  },
  {
   "cell_type": "code",
   "execution_count": 239,
   "metadata": {},
   "outputs": [],
   "source": [
    "#outer join df_internet to df_main\n",
    "df_main = pd.merge(df_main, df_internet, on='customer_id', how='outer')\n"
   ]
  },
  {
   "cell_type": "code",
   "execution_count": 240,
   "metadata": {},
   "outputs": [],
   "source": [
    "#outer join df_phone to df_main\n",
    "df_main = pd.merge(df_main, df_phone, on='customer_id', how='outer')"
   ]
  },
  {
   "cell_type": "code",
   "execution_count": 241,
   "metadata": {},
   "outputs": [],
   "source": [
    "#drop rows where total_charges are missing. \n",
    "df_main = df_main.dropna(subset=['total_charges'])"
   ]
  },
  {
   "cell_type": "code",
   "execution_count": 242,
   "metadata": {},
   "outputs": [],
   "source": [
    "#create a copy for Gradient Boosting\n",
    "df_main_copy = df_main.copy()"
   ]
  },
  {
   "cell_type": "markdown",
   "metadata": {},
   "source": [
    "OHE "
   ]
  },
  {
   "cell_type": "code",
   "execution_count": 243,
   "metadata": {},
   "outputs": [],
   "source": [
    "#perform OHE on relavant columns\n",
    "df_main = pd.get_dummies(df_main, columns=['type','paperless_billing','payment_method' ,'gender','partner','dependents','internet_service','online_security','online_backup','device_protection','tech_support','streaming_tv','streaming_movies','multiple_lines'], drop_first=True )"
   ]
  },
  {
   "cell_type": "markdown",
   "metadata": {},
   "source": [
    "Further EDA\n"
   ]
  },
  {
   "cell_type": "code",
   "execution_count": 244,
   "metadata": {},
   "outputs": [
    {
     "name": "stdout",
     "output_type": "stream",
     "text": [
      "churn\n",
      "0    5163\n",
      "1    1869\n",
      "Name: count, dtype: int64\n"
     ]
    },
    {
     "data": {
      "image/png": "[encoded data removed]",
      "text/plain": [
       "<Figure size 600x300 with 1 Axes>"
      ]
     },
     "metadata": {},
     "output_type": "display_data"
    }
   ],
   "source": [
    "#explore class imbalance\n",
    "exit_counts = df_main['churn'].value_counts()\n",
    "print(exit_counts)\n",
    "\n",
    "plt.figure(figsize=(6,3))\n",
    "exit_counts.plot(kind='bar', color=['green', 'red'])\n",
    "plt.title('Customer Status Balance')\n",
    "plt.xlabel('')\n",
    "plt.ylabel('Count')\n",
    "plt.xticks(ticks=[0, 1], labels=['Stayed', 'Exited'], rotation=0)\n",
    "plt.show()"
   ]
  },
  {
   "cell_type": "markdown",
   "metadata": {},
   "source": [
    "Here we can see ther is a large inbalance between are too churn classes. We will need to take this into account before training our models."
   ]
  },
  {
   "cell_type": "markdown",
   "metadata": {},
   "source": [
    "Seasonality"
   ]
  },
  {
   "cell_type": "code",
   "execution_count": 245,
   "metadata": {},
   "outputs": [
    {
     "name": "stdout",
     "output_type": "stream",
     "text": [
      "end_date\n",
      "2019-10-31    458\n",
      "2019-11-30    485\n",
      "2019-12-31    466\n",
      "2020-01-31    460\n",
      "Freq: M, Name: count, dtype: int64\n"
     ]
    }
   ],
   "source": [
    "# Filter the DataFrame to include only records where 'churn' is equal to 1\n",
    "df_churn = df_main[df_main['churn'] == 1 ]\n",
    "\n",
    "\n",
    "# Count occurrences of 'end_date' for churned customers and sort by index\n",
    "churn_counts = df_churn['end_date'].value_counts().sort_index() \n",
    "\n",
    "# Resample the churn counts time series by month and sum the values\n",
    "churn_counts_ts = churn_counts.resample('M').sum()\n",
    "\n",
    "# Print the resampled time series\n",
    "print(churn_counts_ts)"
   ]
  },
  {
   "cell_type": "code",
   "execution_count": 246,
   "metadata": {},
   "outputs": [
    {
     "data": {
      "image/png": "[encoded data removed]",
      "text/plain": [
       "<Figure size 1000x800 with 4 Axes>"
      ]
     },
     "metadata": {},
     "output_type": "display_data"
    }
   ],
   "source": [
    "\n",
    "# Perform seasonal decomposition of the time series data\n",
    "decomposition = seasonal_decompose(churn_counts_ts , model='additive', period=1)\n",
    "\n",
    "# Create subplots\n",
    "fig, (ax1, ax2, ax3, ax4) = plt.subplots(4, 1, figsize=(10, 8))\n",
    "\n",
    "# Plot the observed component\n",
    "decomposition.observed.plot(ax=ax1)\n",
    "ax1.set_ylabel('Observed')\n",
    "ax1.set_title('Observed')\n",
    "\n",
    "# Plot the trend component\n",
    "decomposition.trend.plot(ax=ax2)\n",
    "ax2.set_ylabel('Trend')\n",
    "ax2.set_title('Trend')\n",
    "\n",
    "# Plot the seasonal component\n",
    "decomposition.seasonal.plot(ax=ax3)\n",
    "ax3.set_ylabel('Seasonal')\n",
    "ax3.set_title('Seasonal')\n",
    "\n",
    "# Plot the residual component\n",
    "decomposition.resid.plot(ax=ax4)\n",
    "ax4.set_ylabel('Residual')\n",
    "ax4.set_title('Residual')\n",
    "\n",
    "# Display \n",
    "plt.tight_layout()\n",
    "plt.show()"
   ]
  },
  {
   "cell_type": "markdown",
   "metadata": {},
   "source": [
    "No seasonality for our churn dates as they all are close in time to eachother. If we had more data over a longer period we would maybe be alble to see seasonality in our data."
   ]
  },
  {
   "cell_type": "code",
   "execution_count": 247,
   "metadata": {},
   "outputs": [
    {
     "data": {
      "image/png": "[encoded data removed]",
      "text/plain": [
       "<Figure size 640x480 with 1 Axes>"
      ]
     },
     "metadata": {},
     "output_type": "display_data"
    }
   ],
   "source": [
    "#explore charges distrobution\n",
    "plt.hist(df_main['total_charges'].values)\n",
    "plt.ylabel('Total Charges')\n",
    "plt.title('Total Charges Distribution')\n",
    "plt.show()"
   ]
  },
  {
   "cell_type": "markdown",
   "metadata": {},
   "source": [
    "we can see here that our charges are scewed to the right. This indicates that we have a large number of customers paying a smaller amount and less customers paying higher rates."
   ]
  },
  {
   "cell_type": "code",
   "execution_count": 248,
   "metadata": {},
   "outputs": [
    {
     "data": {
      "image/png": "[encoded data removed]",
      "text/plain": [
       "<Figure size 640x480 with 1 Axes>"
      ]
     },
     "metadata": {},
     "output_type": "display_data"
    }
   ],
   "source": [
    "#explore monthly charges distribution\n",
    "plt.hist(df_main['monthly_charges'].values)\n",
    "plt.ylabel('Monthly Charges')\n",
    "plt.title('Monthly Charges Distribution')\n",
    "plt.show()"
   ]
  },
  {
   "cell_type": "markdown",
   "metadata": {},
   "source": [
    "In this graph we can see there is a difference for monthly charges. We have a large amount of customers paying a small amount, and then a medium size amount of customers paying for higher prices"
   ]
  },
  {
   "cell_type": "code",
   "execution_count": 249,
   "metadata": {},
   "outputs": [],
   "source": [
    "#create our features and target. We will drop end_date, begin_date, and customer_id\n",
    "features = df_main.drop(['churn','end_date','begin_date', 'customer_id'], axis= 1)\n",
    "target = df_main['churn']"
   ]
  },
  {
   "cell_type": "markdown",
   "metadata": {},
   "source": [
    "Split Data Into Training, Validation, and Test Data"
   ]
  },
  {
   "cell_type": "code",
   "execution_count": 250,
   "metadata": {},
   "outputs": [],
   "source": [
    "#split data for training and testing and validation\n",
    "features_train, features_test, target_train, target_test = train_test_split(\n",
    "    features, target, test_size=0.2, random_state=12345)\n",
    "\n",
    "features_train, features_valid, target_train, target_valid = train_test_split(\n",
    "    features_train, target_train, test_size=0.25, random_state=12345)"
   ]
  },
  {
   "cell_type": "code",
   "execution_count": 251,
   "metadata": {},
   "outputs": [
    {
     "name": "stdout",
     "output_type": "stream",
     "text": [
      "(4218, 20)\n",
      "(4218,)\n",
      "(1407, 20)\n",
      "(1407,)\n",
      "(1407, 20)\n",
      "(1407,)\n"
     ]
    }
   ],
   "source": [
    "#look at our data set shapes\n",
    "print(features_train.shape)\n",
    "print(target_train.shape)\n",
    "print(features_valid.shape)\n",
    "print(target_valid.shape)\n",
    "print(features_test.shape)\n",
    "print(target_test.shape)"
   ]
  },
  {
   "cell_type": "markdown",
   "metadata": {},
   "source": [
    "Perform Scaling"
   ]
  },
  {
   "cell_type": "code",
   "execution_count": 252,
   "metadata": {},
   "outputs": [],
   "source": [
    "# List of numeric columns to be scaled\n",
    "numeric = ['monthly_charges','total_charges']\n",
    "\n",
    "# Initialize a StandardScaler object\n",
    "scaler = StandardScaler()\n",
    "\n",
    "# Fit the scaler on the training set and transform the numeric columns\n",
    "scaler.fit(features_train[numeric])\n",
    "\n",
    "# Apply the scaler transformation to the numeric columns in the training, test and validiation sets\n",
    "features_train[numeric] = scaler.transform(features_train[numeric])\n",
    "features_test[numeric] = scaler.transform(features_test[numeric])\n",
    "features_valid[numeric] = scaler.transform(features_valid[numeric])"
   ]
  },
  {
   "cell_type": "markdown",
   "metadata": {},
   "source": [
    "Evaluation Function"
   ]
  },
  {
   "cell_type": "code",
   "execution_count": 253,
   "metadata": {},
   "outputs": [],
   "source": [
    "#create function for evaluation\n",
    "def print_evaluation(true, pred_binary, pred_prob, model_name):\n",
    "    print(f\"\\n--- {model_name} ---\")\n",
    "  \n",
    "    #calc and print f1 score\n",
    "    f1_result = f1_score(true, pred_binary)\n",
    "    print(f\"F1 Score: {f1_result}\")\n",
    "\n",
    "    #calc and pring roc auc score\n",
    "    auc = roc_auc_score(true, pred_prob)\n",
    "    print(f\"ROC AUC Score: {auc:.4f}\")\n",
    "\n",
    "\n"
   ]
  },
  {
   "cell_type": "markdown",
   "metadata": {},
   "source": [
    "Logistic Regressor Model with Unbalanced Data"
   ]
  },
  {
   "cell_type": "code",
   "execution_count": 254,
   "metadata": {},
   "outputs": [
    {
     "name": "stdout",
     "output_type": "stream",
     "text": [
      "\n",
      "--- Logistic Regression Unbalanced ---\n",
      "F1 Score: 0.5804511278195489\n",
      "ROC AUC Score: 0.8406\n"
     ]
    }
   ],
   "source": [
    "#run the logisticregressor model before taking into account the imbalance of classes\n",
    "LR_model = LogisticRegression(random_state=54321, solver='liblinear')\n",
    "\n",
    "#fit the model\n",
    "LR_model.fit(features_train, target_train)  \n",
    "\n",
    "#get predictions on valid data\n",
    "predictions= LR_model.predict(features_valid)\n",
    "\n",
    "#get predictions probabilities\n",
    "pred_prob = LR_model.predict_proba(features_valid)[:,1]\n",
    "\n",
    "#evaluate the model\n",
    "print_evaluation(target_valid, predictions, pred_prob, \"Logistic Regression Unbalanced\")\n",
    "\n",
    "\n"
   ]
  },
  {
   "cell_type": "markdown",
   "metadata": {},
   "source": [
    "Balanced Data Function"
   ]
  },
  {
   "cell_type": "code",
   "execution_count": 255,
   "metadata": {},
   "outputs": [],
   "source": [
    "\n",
    "def balanced_sampling(features, target, downsample_frac=0.1, upsample_method='repeat', upsample_ratio=1, random_state=12345):\n",
    "    # Determine majority and minority classes\n",
    "    class_counts = target.value_counts()\n",
    "    majority_class = class_counts.index[0]\n",
    "    minority_class = class_counts.index[1]\n",
    "\n",
    "    features_majority = features[target == majority_class]\n",
    "    features_minority = features[target == minority_class]\n",
    "    target_majority = target[target == majority_class]\n",
    "    target_minority = target[target == minority_class]\n",
    "\n",
    "    original_ratio = len(target_minority) / len(target)\n",
    "\n",
    "    # Downsampling\n",
    "    features_downsampled = pd.concat([\n",
    "        features_majority.sample(frac=downsample_frac, random_state=random_state),\n",
    "        features_minority\n",
    "    ])\n",
    "    target_downsampled = pd.concat([\n",
    "        target_majority.sample(frac=downsample_frac, random_state=random_state),\n",
    "        target_minority\n",
    "    ])\n",
    "    \n",
    "    downsampled_ratio = sum(target_downsampled == minority_class) / len(target_downsampled)\n",
    "\n",
    "    # Upsampling\n",
    "    if upsample_method == 'repeat':\n",
    "        repeat = int(upsample_ratio * len(features_majority) / len(features_minority))\n",
    "        features_upsampled = pd.concat([features_majority] + [features_minority] * repeat)\n",
    "        target_upsampled = pd.concat([target_majority] + [target_minority] * repeat)\n",
    "    #elif upsample_method == 'smote':\n",
    "    #    smote = SMOTE(sampling_strategy=upsample_ratio, random_state=random_state)\n",
    "    #    features_upsampled, target_upsampled = smote.fit_resample(features, target)\n",
    "    else:\n",
    "        raise ValueError(\"Unsupported upsampling method. Use 'repeat' or 'smote'.\")\n",
    "\n",
    "    upsampled_ratio = sum(target_upsampled == minority_class) / len(target_upsampled)\n",
    "\n",
    "    # Shuffling\n",
    "    features_downsampled, target_downsampled = shuffle(features_downsampled, target_downsampled, random_state=random_state)\n",
    "    features_upsampled, target_upsampled = shuffle(features_upsampled, target_upsampled, random_state=random_state)\n",
    "\n",
    "    return {\n",
    "        'downsampled': (features_downsampled, target_downsampled),\n",
    "        'upsampled': (features_upsampled, target_upsampled),\n",
    "        'original_ratio': original_ratio,\n",
    "        'downsampled_ratio': downsampled_ratio,\n",
    "        'upsampled_ratio': upsampled_ratio\n",
    "    }"
   ]
  },
  {
   "cell_type": "code",
   "execution_count": 256,
   "metadata": {},
   "outputs": [
    {
     "name": "stdout",
     "output_type": "stream",
     "text": [
      "Original ratio: 0.26\n",
      "Downsampled ratio: 0.50\n",
      "Upsampled ratio: 0.52\n"
     ]
    }
   ],
   "source": [
    "#call balancing function\n",
    "result = balanced_sampling(features_train, target_train, \n",
    "                           downsample_frac=0.35, \n",
    "                           upsample_method='repeat', \n",
    "                           upsample_ratio=1.2)\n",
    "\n",
    "\n",
    "#unpack data to sets\n",
    "features_downsampled, target_downsampled = result['downsampled']\n",
    "features_upsampled, target_upsampled = result['upsampled']\n",
    "\n",
    "#check data ratios\n",
    "print(f\"Original ratio: {result['original_ratio']:.2f}\")\n",
    "print(f\"Downsampled ratio: {result['downsampled_ratio']:.2f}\")\n",
    "print(f\"Upsampled ratio: {result['upsampled_ratio']:.2f}\")"
   ]
  },
  {
   "cell_type": "markdown",
   "metadata": {},
   "source": [
    "Dummy Model"
   ]
  },
  {
   "cell_type": "code",
   "execution_count": 257,
   "metadata": {},
   "outputs": [
    {
     "name": "stdout",
     "output_type": "stream",
     "text": [
      "\n",
      "--- Dummy Most Frequent ---\n",
      "F1 Score: 0.0\n",
      "ROC AUC Score: 0.5000\n"
     ]
    }
   ],
   "source": [
    "#create dummy model\n",
    "dummy_most_frequent = DummyClassifier(strategy='most_frequent', random_state=12345)\n",
    "\n",
    "#fit dummy model\n",
    "dummy_most_frequent.fit(features_train, target_train)\n",
    "\n",
    "#get predictions\n",
    "y_pred_most_frequent = dummy_most_frequent.predict(features_valid)\n",
    "\n",
    "#get predictions probabilities\n",
    "pred_prob = dummy_most_frequent.predict_proba(features_valid)[:,1]\n",
    "\n",
    "#evaluate the model\n",
    "print_evaluation(target_valid, y_pred_most_frequent, pred_prob, \"Dummy Most Frequent\")\n",
    "\n"
   ]
  },
  {
   "cell_type": "markdown",
   "metadata": {},
   "source": [
    "Logistic Regression on Downsampled Data"
   ]
  },
  {
   "cell_type": "code",
   "execution_count": 258,
   "metadata": {},
   "outputs": [
    {
     "name": "stdout",
     "output_type": "stream",
     "text": [
      "\n",
      "--- Logistic Regression Down Samples ---\n",
      "F1 Score: 0.6323529411764706\n",
      "ROC AUC Score: 0.8400\n"
     ]
    }
   ],
   "source": [
    "\n",
    "#Test Logistic Regression Model with the downsampled data\n",
    "LR_model = LogisticRegression(random_state=54321, solver='liblinear', class_weight='balanced' )\n",
    "\n",
    "#fit LR model\n",
    "LR_model.fit(features_downsampled, target_downsampled)  \n",
    "\n",
    "#get predictions\n",
    "predictions= LR_model.predict(features_valid)\n",
    "\n",
    "#get prediction probabilities\n",
    "pred_prob = LR_model.predict_proba(features_valid)[:,1]\n",
    "\n",
    "#evaluate the model\n",
    "print_evaluation(target_valid, predictions, pred_prob, \"Logistic Regression Down Samples\")\n"
   ]
  },
  {
   "cell_type": "markdown",
   "metadata": {},
   "source": [
    "Logistic Regression on Upsampled Data"
   ]
  },
  {
   "cell_type": "code",
   "execution_count": 259,
   "metadata": {},
   "outputs": [
    {
     "name": "stdout",
     "output_type": "stream",
     "text": [
      "\n",
      "--- Logistic Regression Up Samples ---\n",
      "F1 Score: 0.6310272536687631\n",
      "ROC AUC Score: 0.8399\n"
     ]
    }
   ],
   "source": [
    "#Test Logistic Regression Model with the upsampled data\n",
    "LR_model = LogisticRegression(random_state=54321, solver='liblinear', class_weight='balanced' )\n",
    "\n",
    "#fit LR model\n",
    "LR_model.fit(features_upsampled, target_upsampled)  \n",
    "\n",
    "#get predictions\n",
    "predictions= LR_model.predict(features_valid)\n",
    "\n",
    "#get predictions probabilities\n",
    "pred_prob = LR_model.predict_proba(features_valid)[:,1]\n",
    "\n",
    "#evaluate the model\n",
    "print_evaluation(target_valid, predictions, pred_prob, \"Logistic Regression Up Samples\")\n"
   ]
  },
  {
   "cell_type": "markdown",
   "metadata": {},
   "source": [
    "Random Forest Classifier on Downsampled Data"
   ]
  },
  {
   "cell_type": "code",
   "execution_count": 260,
   "metadata": {},
   "outputs": [
    {
     "name": "stdout",
     "output_type": "stream",
     "text": [
      "\n",
      "--- Random Forest Down Sampled (max depth: 1, n_estimators: 1 ) ---\n",
      "F1 Score: 0.37185929648241206\n",
      "ROC AUC Score: 0.8399\n"
     ]
    }
   ],
   "source": [
    "# Initialize variable to store the best ROC AUC score found\n",
    "rf_best_roc_auc_result = 0\n",
    "\n",
    "# Iterate over a range of values for the number of estimators (trees)\n",
    "for est in range(1, 50):\n",
    "    # Iterate over a range of values for the maximum depth of the trees\n",
    "    for depth in range(1,50):\n",
    "        # Initialize a RandomForestClassifier with the current values of n_estimators and max_depth\n",
    "        model1 = RandomForestClassifier(random_state=12345, n_estimators=est, max_depth=depth, class_weight='balanced')\n",
    "\n",
    "        # Train the model using the downsampled dataset\n",
    "        model1.fit(features_downsampled, target_downsampled)\n",
    "\n",
    "         # Make predictions on the validation set\n",
    "        predictions = model1.predict(features_valid)\n",
    "\n",
    "        #pred probabilities\n",
    "        pred_prob = LR_model.predict_proba(features_valid)[:,1]\n",
    "\n",
    "         # Calculate the ROC AUC score for the current model\n",
    "        roc_auc_result = roc_auc_score(target_valid, pred_prob)\n",
    "        \n",
    "         # Check if the current ROC AUC score is better than the best one found so far\n",
    "        if roc_auc_result  > rf_best_roc_auc_result:\n",
    "            # If it is, update the best model and the corresponding parameters\n",
    "            best_RF_model_upsampled = model1          \n",
    "            best_depth = depth\n",
    "            best_est = est\n",
    "            rf_best_roc_auc_result = roc_auc_result\n",
    "            rf_best_prob = pred_prob\n",
    "            predictions_bestmodel = predictions \n",
    "\n",
    "# Print the evaluation of the best model found, including its parameters\n",
    "print_evaluation(target_valid, predictions_bestmodel, rf_best_prob, f\"Random Forest Down Sampled (max depth: {best_depth}, n_estimators: {best_est} )\")\n",
    "\n",
    "\n",
    "\n",
    "\n",
    "\n"
   ]
  },
  {
   "cell_type": "markdown",
   "metadata": {},
   "source": [
    "Random Forest Classifier on Upsampled Data"
   ]
  },
  {
   "cell_type": "code",
   "execution_count": 261,
   "metadata": {},
   "outputs": [
    {
     "name": "stdout",
     "output_type": "stream",
     "text": [
      "\n",
      "--- Random Forest Upsampled (max depth: 8, n_estimators: 26 ) ---\n",
      "F1 Score: 0.6538461538461539\n",
      "ROC AUC Score: 0.8399\n"
     ]
    }
   ],
   "source": [
    "# Initialize variable to store the best ROC AUC score found\n",
    "rf_best_roc_auc_result = 0\n",
    "\n",
    "# Iterate over a range of values for the number of estimators (trees)\n",
    "\n",
    "for est in range(1,50):\n",
    "    # Iterate over a range of values for the maximum depth of the trees\n",
    "    for depth in range(1,50):\n",
    "\n",
    "         # Initialize a RandomForestClassifier with the current values of n_estimators and max_depth\n",
    "        model2 = RandomForestClassifier(random_state=12345, n_estimators=est, max_depth=depth, class_weight='balanced')\n",
    "\n",
    "        # Train the model using the upsampled dataset\n",
    "        model2.fit(features_upsampled, target_upsampled)\n",
    "\n",
    "        # Make predictions on the validation set\n",
    "        predictions = model2.predict(features_valid)\n",
    "\n",
    "        #pred probabilities\n",
    "        pred_prob = LR_model.predict_proba(features_valid)[:,1]\n",
    "\n",
    "        # Calculate the ROC AUC score for the current model\n",
    "        roc_auc_result = roc_auc_score(target_valid, predictions)\n",
    "        \n",
    "        # Check if the current ROC AUC score is better than the best one found so far\n",
    "        if roc_auc_result  > rf_best_roc_auc_result:\n",
    "            # If it is, update the best model and the corresponding parameters\n",
    "            best_RF_model_downsampled = model2          \n",
    "            best_depth = depth\n",
    "            best_est = est\n",
    "            rf_best_roc_auc_result = roc_auc_result\n",
    "            rf_best_prob = pred_prob\n",
    "            predictions_bestmodel = predictions \n",
    "\n",
    "# Print the evaluation of the best model found, including its parameters\n",
    "print_evaluation(target_valid, predictions_bestmodel, rf_best_prob, f\"Random Forest Upsampled (max depth: {best_depth}, n_estimators: {best_est} )\")"
   ]
  },
  {
   "cell_type": "markdown",
   "metadata": {},
   "source": [
    "LightGBM"
   ]
  },
  {
   "cell_type": "code",
   "execution_count": 262,
   "metadata": {},
   "outputs": [],
   "source": [
    "#create features and target data for gradient boosting datasets\n",
    "features_lgb = df_main_copy.drop(['churn','end_date','begin_date', 'customer_id'], axis= 1)\n",
    "target_lgb = df_main_copy['churn']"
   ]
  },
  {
   "cell_type": "code",
   "execution_count": 264,
   "metadata": {},
   "outputs": [],
   "source": [
    "# List of categorical features in the dataset\n",
    "cats = [\"type\",\"paperless_billing\",\"payment_method\",\"gender\",\"senior_citizen\",\"partner\",\"dependents\",\"internet_service\",\"online_security\",\"online_backup\",\"device_protection\",\"tech_support\",\"streaming_tv\",\"streaming_movies\", \"multiple_lines\"]\n",
    "\n",
    "# Iterate over each categorical feature\n",
    "for col in cats:\n",
    "    # Convert the column data type to 'category' for LightGBM\n",
    "    # This helps LightGBM recognize and handle categorical features appropriately\n",
    "    features_lgb[col] = features_lgb[col].astype('category')\n"
   ]
  },
  {
   "cell_type": "code",
   "execution_count": 265,
   "metadata": {},
   "outputs": [],
   "source": [
    "#split data into datasets for training\n",
    "features_train_lgb, features_test_lgb, target_train_lgb, target_test_lgb = train_test_split(\n",
    "    features_lgb, target_lgb, test_size=0.2, random_state=12345)\n",
    "\n",
    "features_train_lgb, features_valid_lgb, target_train_lgb, target_valid_lgb = train_test_split(\n",
    "    features_train_lgb, target_train_lgb, test_size=0.25, random_state=12345)"
   ]
  },
  {
   "cell_type": "code",
   "execution_count": 282,
   "metadata": {},
   "outputs": [
    {
     "name": "stdout",
     "output_type": "stream",
     "text": [
      "Training until validation scores don't improve for 10 rounds\n",
      "Early stopping, best iteration is:\n",
      "[55]\ttraining's auc: 0.902778\tvalid_1's auc: 0.852376\n",
      "\n",
      "--- LightGBM ---\n",
      "F1 Score: 0.6071428571428571\n",
      "ROC AUC Score: 0.8524\n"
     ]
    }
   ],
   "source": [
    "# Create LightGBM dataset\n",
    "train_data = lgb.Dataset(features_train_lgb, label=target_train_lgb, categorical_feature=cats)\n",
    "valid_data = lgb.Dataset(features_valid_lgb, label=target_valid_lgb, reference=train_data, categorical_feature= cats)\n",
    "test_data = lgb.Dataset(features_test_lgb, label=target_test_lgb, reference=train_data, categorical_feature= cats)\n",
    "\n",
    "\n",
    "# Define LightGBM parameters\n",
    "params = {\n",
    "    \"boosting_type\": \"gbdt\",\n",
    "    \"objective\": \"binary\",\n",
    "    'metric': 'auc',  \n",
    "    \"num_leaves\": 31,\n",
    "    'learning_rate': 0.05,\n",
    "    'feature_fraction': 0.9,\n",
    "    'bagging_fraction': 0.8,\n",
    "    'bagging_freq': 5,\n",
    "    'verbose': 0\n",
    "}\n",
    "\n",
    "# Train the model\n",
    "lgbm = lgb.train(params, train_data, num_boost_round=100, valid_sets=[train_data, valid_data], callbacks=[lgb.early_stopping(stopping_rounds=10)])\n",
    "\n",
    "#pred probablities\n",
    "lgbm_prob = lgbm.predict(features_valid_lgb, num_iteration=lgbm.best_iteration)\n",
    "\n",
    "#get binary predictions\n",
    "lgbm_pred_binary = [1 if x > 0.5 else 0 for x in lgbm_prob]\n",
    "\n",
    "#Print Evaluation\n",
    "print_evaluation(target_valid_lgb, lgbm_pred_binary, lgbm_prob, \"LightGBM\")"
   ]
  },
  {
   "cell_type": "markdown",
   "metadata": {},
   "source": [
    "XGB Classifier"
   ]
  },
  {
   "cell_type": "code",
   "execution_count": 280,
   "metadata": {},
   "outputs": [],
   "source": [
    "# Initialize a LabelEncoder object\n",
    "label_encoder = LabelEncoder()\n",
    "\n",
    "#create features and target data for gradient boosting datasets\n",
    "features_xgb = df_main_copy.drop(['churn','end_date','begin_date', 'customer_id'], axis= 1)\n",
    "target_xgb = df_main_copy['churn']\n",
    "\n",
    "\n",
    "# Dictionary to store label encoders for each categorical feature\n",
    "label_encoders = {}\n",
    "\n",
    "# Iterate over each categorical feature\n",
    "for col in cats:\n",
    "    # Initialize a new LabelEncoder for the column\n",
    "    le = LabelEncoder()\n",
    "    # Fit the LabelEncoder and transform the categorical values to numeric values\n",
    "    features_xgb[col] = le.fit_transform(features_xgb[col])\n",
    "    # Store the LabelEncoder in the dictionary\n",
    "    label_encoders[col] = le\n",
    "\n",
    "# Split the data\n",
    "features_train_xgb, features_test_xgb, target_train_xgb, target_test_xgb = train_test_split(\n",
    "    features_xgb, target_xgb, test_size=0.2, random_state=12345)\n",
    "\n",
    "features_train_xgb, features_valid_xgb, target_train_xgb, target_valid_xgb = train_test_split(\n",
    "    features_train_xgb, target_train_xgb, test_size=0.25, random_state=12345)"
   ]
  },
  {
   "cell_type": "code",
   "execution_count": 268,
   "metadata": {},
   "outputs": [
    {
     "name": "stdout",
     "output_type": "stream",
     "text": [
      "\n",
      "--- XGB Classifier ---\n",
      "F1 Score: 0.563953488372093\n",
      "ROC AUC Score: 0.8235\n"
     ]
    }
   ],
   "source": [
    "# Initialize XGBoost Classifier\n",
    "xgb_model = xgb.XGBClassifier(use_label_encoder=False, eval_metric='logloss')\n",
    "\n",
    "# Train the model\n",
    "xgb_model.fit(features_train_xgb, target_train_xgb)  #, eval_set=[(features_valid_lgb, target_valid_lgb)], early_stopping_rounds=10, verbose=True)\n",
    "\n",
    "#Pred prob\n",
    "xgb_prob = xgb_model.predict_proba(features_valid_xgb)[:, 1]\n",
    "\n",
    "\n",
    "# Make predictions\n",
    "xgb_pred = xgb_model.predict(features_valid_xgb)\n",
    "\n",
    "#Print Evaluation\n",
    "print_evaluation(target_valid_xgb, xgb_pred, xgb_prob, \"XGB Classifier\")\n"
   ]
  },
  {
   "cell_type": "markdown",
   "metadata": {},
   "source": [
    "Analyze the results of all our model training."
   ]
  },
  {
   "cell_type": "code",
   "execution_count": 272,
   "metadata": {},
   "outputs": [
    {
     "data": {
      "image/png": "[encoded data removed]",
      "text/plain": [
       "<Figure size 1000x600 with 1 Axes>"
      ]
     },
     "metadata": {},
     "output_type": "display_data"
    }
   ],
   "source": [
    "#create array of models\n",
    "models = [\n",
    "    \"Dummy\",\n",
    "    \"Logistic Regression Down Sampled\",\n",
    "    \"Logistic Regression Up Sampled\",\n",
    "    \"Random Forest Down Sampled\",\n",
    "    \"Random Forest Up Sampled\",\n",
    "    \"LightGBM\",\n",
    "    \"XGB Classifier\"\n",
    "]\n",
    "scores = [0.5, 0.8400, 0.8399, 0.8399, 00.8399, 0.8531, 0.8251]\n",
    "\n",
    "# Create the bar chart\n",
    "plt.figure(figsize=(10, 6))\n",
    "bars = plt.barh(models, scores, color=['gray', 'blue', 'blue', 'green', 'green', 'red', 'red'])\n",
    "\n",
    "# Add labels and title\n",
    "plt.xlabel('ROC AUC Score')\n",
    "plt.ylabel('Models')\n",
    "plt.title('Model Performance Comparison')\n",
    "\n",
    "# Add the score values on the bars\n",
    "for bar, score in zip(bars, scores):\n",
    "    plt.text(bar.get_width() + 0.01, bar.get_y() + bar.get_height()/2, f'{score:.4f}', \n",
    "             va='center', ha='left', color='black')\n",
    "\n",
    "# Customize the plot (optional)\n",
    "plt.xlim(0, 1)  # Set the x-axis limit from 0 to 1\n",
    "\n",
    "# Display the chart\n",
    "plt.show()"
   ]
  },
  {
   "cell_type": "markdown",
   "metadata": {},
   "source": [
    "FINAL MODEL: LightGBM"
   ]
  },
  {
   "cell_type": "code",
   "execution_count": 270,
   "metadata": {},
   "outputs": [
    {
     "name": "stdout",
     "output_type": "stream",
     "text": [
      "Training until validation scores don't improve for 10 rounds\n",
      "Early stopping, best iteration is:\n",
      "[55]\ttraining's auc: 0.902778\tvalid_1's auc: 0.852376\n",
      "\n",
      "--- Final Model LightGBM ---\n",
      "F1 Score: 0.5850746268656717\n",
      "ROC AUC Score: 0.8449\n"
     ]
    }
   ],
   "source": [
    "# Create LightGBM dataset\n",
    "train_data = lgb.Dataset(features_train_lgb, label=target_train_lgb, categorical_feature=cats)\n",
    "valid_data = lgb.Dataset(features_valid_lgb, label=target_valid_lgb, reference=train_data, categorical_feature= cats)\n",
    "test_data = lgb.Dataset(features_test_lgb, label=target_test_lgb, reference=train_data, categorical_feature= cats)\n",
    "\n",
    "\n",
    "# Define LightGBM parameters\n",
    "params = {\n",
    "    \"boosting_type\": \"gbdt\",\n",
    "    \"objective\": \"binary\",\n",
    "    'metric': 'auc',  \n",
    "    \"num_leaves\": 31,\n",
    "    'learning_rate': 0.05,\n",
    "    'feature_fraction': 0.9,\n",
    "    'bagging_fraction': 0.8,\n",
    "    'bagging_freq': 5,\n",
    "    'verbose': 0\n",
    "}\n",
    "\n",
    "# Train the model\n",
    "final_model = lgb.train(params, train_data, num_boost_round=100, valid_sets=[train_data, valid_data], callbacks=[lgb.early_stopping(stopping_rounds=10)])\n",
    "\n",
    "#creal final prob predictions\n",
    "final_prob = final_model.predict(features_test_lgb, num_iteration=final_model.best_iteration)\n",
    "\n",
    "\n",
    "#get binary predictions\n",
    "final_pred_binary = [1 if x > 0.5 else 0 for x in final_prob]\n",
    "\n",
    "#Print Evaluation\n",
    "print_evaluation(target_test_lgb, final_pred_binary, final_prob, \"Final Model LightGBM\")\n"
   ]
  },
  {
   "cell_type": "code",
   "execution_count": 204,
   "metadata": {},
   "outputs": [
    {
     "data": {
      "image/png": "[encoded data removed]",
      "text/plain": [
       "<Figure size 1000x800 with 1 Axes>"
      ]
     },
     "metadata": {},
     "output_type": "display_data"
    }
   ],
   "source": [
    "# Extract feature importances\n",
    "feature_importances = pd.DataFrame({\n",
    "    'feature': features_test_lgb.columns,\n",
    "    'importance': final_model.feature_importance(importance_type='gain')\n",
    "})\n",
    "\n",
    "# Sort feature importances by descending order\n",
    "feature_importances = feature_importances.sort_values(by='importance', ascending=False)\n",
    "\n",
    "# Visualize the top features\n",
    "plt.figure(figsize=(10, 8))\n",
    "sns.barplot(x='importance', y='feature', data=feature_importances.head(10))\n",
    "plt.title('Top 10 Important Features for Churn Prediction (LightGBM)')\n",
    "plt.xlabel('Importance')\n",
    "plt.ylabel('Feature')\n",
    "plt.show()"
   ]
  },
  {
   "cell_type": "markdown",
   "metadata": {},
   "source": [
    "## Conclusion"
   ]
  },
  {
   "cell_type": "markdown",
   "metadata": {},
   "source": [
    "After assessing our four model types and training them on our data, we found that the Light Gradient Boosting Model (LightGBM) achieved the highest ROC-AUC score of 0.8531. On our final testing dataset, the model delivered a score of 0.8431.\n",
    "\n",
    "In analyzing the model's results, we discovered that the type of plan our customers had was the most significant factor influencing their decision to cancel the service. This was followed by their monthly charges and total charges. Based on these insights, I recommend further exploring the correlation between the type of plan and the associated charges. It is possible that higher prices for certain plans are prompting customers to switch to another carrier. By lowering prices or offering additional services to these customers, we might be able to improve retention."
   ]
  },
  {
   "cell_type": "markdown",
   "metadata": {},
   "source": []
  }
 ],
 "metadata": {
  "kernelspec": {
   "display_name": "base",
   "language": "python",
   "name": "python3"
  },
  "language_info": {
   "codemirror_mode": {
    "name": "ipython",
    "version": 3
   },
   "file_extension": ".py",
   "mimetype": "text/x-python",
   "name": "python",
   "nbconvert_exporter": "python",
   "pygments_lexer": "ipython3",
   "version": "3.11.5"
  }
 },
 "nbformat": 4,
 "nbformat_minor": 2
}
